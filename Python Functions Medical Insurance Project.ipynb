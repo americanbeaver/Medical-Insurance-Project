{
 "cells": [
  {
   "cell_type": "code",
   "execution_count": 1,
   "id": "8e613ffe",
   "metadata": {},
   "outputs": [
    {
     "name": "stdout",
     "output_type": "stream",
     "text": [
      "The estimated insurance cost for Maria is 5469.0 dollars.\n",
      "The estimated insurance cost for Omar is 28336.0 dollars.\n",
      "The estimated insurance cost for Will is 762 dollars.\n"
     ]
    }
   ],
   "source": [
    "# Create calculate_insurance_cost() function below: \n",
    "\n",
    "\n",
    "# Initial variables for Maria \n",
    "\n",
    "\n",
    "# Estimate Maria's insurance cost\n",
    "\n",
    "# Initial variables for Omar\n",
    "\n",
    "\n",
    "\n",
    "\n",
    "def calculate_insurance_cost(age, sex, bmi, num_of_children, smoker, name): \n",
    "  estimated_cost = 250*age - 128*sex + 370*bmi + 425*num_of_children + 24000*smoker - 12500\n",
    "  print(\"The estimated insurance cost for \" + name + \" is \" + str(estimated_cost) + \" dollars.\")\n",
    "  return estimated_cost\n",
    "  \n",
    "maria_insurance_cost = calculate_insurance_cost(age = 28, sex = 0, bmi = 26.2, num_of_children = 3, smoker = 0, name = \"Maria\")\n",
    "\n",
    "omar_insurance_cost = calculate_insurance_cost(age = 35, sex = 1, bmi = 22.2, num_of_children = 0, smoker = 1, name = 'Omar')\n",
    "\n",
    "will_insurance_cost = calculate_insurance_cost(age = 21, sex = 1, bmi = 22, num_of_children = 0, smoker = 0, name = 'Will')"
   ]
  },
  {
   "cell_type": "code",
   "execution_count": null,
   "id": "b0eeea3c",
   "metadata": {},
   "outputs": [],
   "source": []
  }
 ],
 "metadata": {
  "kernelspec": {
   "display_name": "Python 3 (ipykernel)",
   "language": "python",
   "name": "python3"
  },
  "language_info": {
   "codemirror_mode": {
    "name": "ipython",
    "version": 3
   },
   "file_extension": ".py",
   "mimetype": "text/x-python",
   "name": "python",
   "nbconvert_exporter": "python",
   "pygments_lexer": "ipython3",
   "version": "3.11.7"
  }
 },
 "nbformat": 4,
 "nbformat_minor": 5
}
